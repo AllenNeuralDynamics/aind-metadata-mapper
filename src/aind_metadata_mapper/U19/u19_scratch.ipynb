{
 "cells": [
  {
   "cell_type": "code",
   "execution_count": null,
   "metadata": {},
   "outputs": [],
   "source": [
    "from aind_metadata_mapper.U19.u19_etl import U19ETL, JobSettings\n",
    "import pandas as pd\n",
    "from pathlib import Path\n",
    "\n",
    "\n",
    "base_sheet = Path(\"../../environment/Injection Tracker.xlsx\")\n",
    "\n",
    "base = pd.read_excel(\"../../environment/Injection Tracker.xlsx\", sheet_name=\"Retrograde Tracking\", header=[0,1], converters={(\"SubjInfo\", \"Mouse ID\"): str})\n",
    "coords = pd.read_excel(\"../../environment/Injection Tracker.xlsx\", sheet_name=\"Retrograde Coordinates\")"
   ]
  },
  {
   "cell_type": "code",
   "execution_count": null,
   "metadata": {},
   "outputs": [],
   "source": []
  }
 ],
 "metadata": {
  "language_info": {
   "name": "python"
  }
 },
 "nbformat": 4,
 "nbformat_minor": 2
}
