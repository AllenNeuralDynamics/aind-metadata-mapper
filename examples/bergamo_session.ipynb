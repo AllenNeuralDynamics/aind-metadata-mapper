{
 "cells": [
  {
   "cell_type": "code",
   "execution_count": 17,
   "id": "700ea92f-d192-4aa7-a273-013695e3353b",
   "metadata": {},
   "outputs": [],
   "source": [
    "\n",
    "\n",
    "from datetime import datetime\n",
    "from pathlib import Path\n",
    "\n",
    "from aind_metadata_mapper.bergamo.session import (\n",
    "    BergamoEtl,\n",
    "    JobSettings,\n",
    "    RawImageInfo,\n",
    ")\n",
    "\n"
   ]
  },
  {
   "cell_type": "code",
   "execution_count": null,
   "id": "5f5d4361-3946-4dcf-81af-05a90daad101",
   "metadata": {},
   "outputs": [
    {
     "name": "stdout",
     "output_type": "stream",
     "text": [
      "extracting metadata for BCI_29-041922\n",
      "single neuron BCI conditioning\n",
      "extracting metadata for BCI_29-042022\n",
      "single neuron BCI conditioning\n",
      "extracting metadata for BCI_29-042222\n",
      "single neuron BCI conditioning\n",
      "extracting metadata for BCI_29-042522\n",
      "single neuron BCI conditioning\n"
     ]
    }
   ],
   "source": [
    "import pandas as pd\n",
    "import os,datetime,json\n",
    "import numpy as np\n",
    "version = 3\n",
    "overwrite_metadata = False\n",
    "extracted_data_folders = '/home/jupyter/bucket/CodeOcean_transfer/'\n",
    "upload_job_pd = pd.read_csv(os.path.join(extracted_data_folders,'uplpoad_job.csv'))\n",
    "for session_row in upload_job_pd.iterrows():\n",
    "    session_row = session_row[1]\n",
    "    \n",
    "    \n",
    "        # check if metadata is already done\n",
    "    \n",
    "    ophys_dir = ''\n",
    "    behavior_dir = ''\n",
    "    behavior_video_dir = ''\n",
    "    behavior_data = ''\n",
    "    goodtrials = []\n",
    "    hittrials = []\n",
    "    is_side_camera_active = False\n",
    "    is_bottom_camera_active = False\n",
    "    for modality_i in np.arange(10):\n",
    "        if 'modality{}'.format(modality_i) not in session_row.keys():\n",
    "            break\n",
    "        if session_row['modality{}'.format(modality_i)] == 'ophys':\n",
    "            ophys_dir =  session_row['modality{}.source'.format(modality_i)]\n",
    "        elif session_row['modality{}'.format(modality_i)] == 'trained_behavior':\n",
    "            behavior_dir =  session_row['modality{}.source'.format(modality_i)]\n",
    "        elif session_row['modality{}'.format(modality_i)] == 'behavior_videos':\n",
    "            behavior_video_dir =  session_row['modality{}.source'.format(modality_i)]\n",
    "    \n",
    "    \n",
    "    \n",
    "    try:    \n",
    "        with open(Path('/'.join(behavior_dir.split('/')[:-1]),'session.json')) as json_data:\n",
    "            d = json.load(json_data)\n",
    "            json_data.close()\n",
    "        version_now = int(d['notes'][d['notes'].find('version')+7:])\n",
    "    except:\n",
    "        version_now = 0\n",
    "    if version_now == version and overwrite_metadata==False:\n",
    "        print('metadata already exist with same version, skipping {}'.format(behavior_dir.split('/')[-2]))\n",
    "    else:\n",
    "        print('extracting metadata for {}'.format(behavior_dir.split('/')[-2]))\n",
    "        \n",
    "        \n",
    "    \n",
    "    behavior_files = os.listdir(behavior_dir)\n",
    "    for behavior_file in behavior_files:\n",
    "        if'bpod_zaber.npy' in behavior_file:\n",
    "            behavior_data=np.load(os.path.join(behavior_dir,behavior_file),allow_pickle = True).tolist()\n",
    "            break\n",
    "\n",
    "    for r,sfn in zip(behavior_data['reward_L'],behavior_data['scanimage_file_names']):\n",
    "        if type(sfn) == str:\n",
    "            goodtrials.append(False)\n",
    "        else:\n",
    "            goodtrials.append(True)\n",
    "        if len(r)==0:\n",
    "            hittrials.append(False)\n",
    "        else:\n",
    "            hittrials.append(True)\n",
    "    goodtrials = np.asarray(goodtrials)    \n",
    "    hittrials = np.asarray(hittrials)    \n",
    "    \n",
    "    for movienames in behavior_data['behavior_movie_name_list'][goodtrials]:\n",
    "        for moviename in movienames:\n",
    "            if 'side' in moviename:\n",
    "                is_side_camera_active = True\n",
    "            if 'bottom' in moviename:\n",
    "                is_bottom_camera_active = True\n",
    "            if is_bottom_camera_active and is_side_camera_active:\n",
    "                break\n",
    "        if is_bottom_camera_active and is_side_camera_active:\n",
    "                break\n",
    "    cn_num = []\n",
    "    for cn_now in behavior_data['scanimage_roi_outputChannelsRoiNames']:\n",
    "        cn_num.append(len(cn_now))\n",
    "    cn_num = int(np.mean(np.asarray(cn_num)[goodtrials]))\n",
    "    if cn_num ==1:\n",
    "        behavior_task_name = \"single neuron BCI conditioning\"\n",
    "    elif cn_num ==2:\n",
    "        behavior_task_name = \"two neuron BCI conditioning\"\n",
    "    elif cn_num>2:\n",
    "        behavior_task_name = \"multi-neuron BCI conditioning\"\n",
    "    else:\n",
    "        print('how many CNs??')\n",
    "        asdasd\n",
    "    print(behavior_task_name)\n",
    "    #ry:\n",
    "    user_settings = JobSettings(input_source=Path(ophys_dir),\n",
    "                                output_directory=Path('/'.join(behavior_dir.split('/')[:-1])),\n",
    "                                experimenter_full_name=[\"Kayvon Daie\", \"Marton Rozsa\"],\n",
    "                                subject_id=str(int(session_row['subject_id'])),\n",
    "                                imaging_laser_wavelength = 920,\n",
    "                                fov_imaging_depth= 200,\n",
    "                                fov_targeted_structure= 'Primary Motor Cortex',\n",
    "                                notes= 'This metadata was generated from old data post-hoc on {} - version {}'.format(datetime.datetime.now(),version),\n",
    "                                session_type= \"BCI\",\n",
    "                                iacuc_protocol=  \"2109\",\n",
    "                                rig_id=  \"442_Bergamo_2p_photostim\",\n",
    "                                behavior_camera_names= np.asarray([\"Side Face Camera\",\"Bottom Face Camera\"])[np.asarray([is_side_camera_active,is_bottom_camera_active])].tolist(),\n",
    "                                imaging_laser_name= \"Chameleon Laser\",\n",
    "                                photostim_laser_name= \"Monaco Laser\",\n",
    "                                photostim_laser_wavelength=  1035,\n",
    "                                starting_lickport_position= [0,\n",
    "                                                             -1*np.abs(np.median(behavior_data['zaber_reward_zone']-behavior_data['zaber_limit_far'])),\n",
    "                                                             0],\n",
    "                                behavior_task_name=  behavior_task_name,\n",
    "                                hit_rate_trials_0_10= np.nanmean(hittrials[goodtrials][:10]),\n",
    "                                hit_rate_trials_20_40=  np.nanmean(hittrials[goodtrials][20:40]),\n",
    "                                total_hits= sum(hittrials[goodtrials]),\n",
    "                                average_hit_rate=  sum(hittrials[goodtrials])/sum(goodtrials),\n",
    "                                trial_num=sum(goodtrials))\n",
    "    etl_job = BergamoEtl(job_settings=user_settings,)\n",
    "    session_metadata = etl_job.run_job()\n",
    "    # except:\n",
    "    #     print('error, could not extract metadata')\n",
    "    \n",
    "            \n",
    "    #asd\n",
    "    "
   ]
  },
  {
   "cell_type": "code",
   "execution_count": 5,
   "id": "9d0dc5b0-d38a-457c-9e03-750d7a5d0e20",
   "metadata": {},
   "outputs": [
    {
     "data": {
      "text/plain": [
       "dict_keys(['go_cue_times', 'trial_start_times', 'trial_end_times', 'lick_L', 'lick_R', 'lick_L_end', 'lick_R_end', 'reward_L', 'reward_R', 'autowater_L', 'autowater_R', 'zaber_move_forward', 'trial_hit', 'time_to_hit', 'trial_num', 'threshold_crossing_times', 'behavior_movie_name_list', 'scanimage_message_list', 'var_ValveOpenTime_L', 'var_ValveOpenTime_R', 'var_AutoWater', 'var_ITI', 'var_LowActivityTime', 'var_AutoWaterTimeMultiplier', 'var_NeuronResponseTime', 'var_LickResponseTime', 'var_RewardConsumeTime', 'var_BaselineZaberForwardStepFrequency', 'var_RecordMovies', 'var_CameraFrameRate', 'var_LowActivityCheckAtTheBeginning', 'var_EnforceStopLicking', 'var_SoundOnRewardZoneEntry', 'var_GoCue_ch', 'var_WaterPort_L_ch_out', 'var_WaterPort_L_ch_in', 'var_WaterPort_L_PWM', 'var_WaterPort_R_ch_out', 'var_WaterPort_R_ch_in', 'var_WaterPort_R_PWM', 'var_ScanimageROIisActive_ch_in', 'var_ResponseEligibilityChannel', 'var_ResetTrial_ch_out', 'var_MotorInRewardZone', 'var_CameraTriggerOut', 'var_StepZaberForwardManually_ch_out', 'var_BitCode_ch_out', 'var_Scanimage_trial_start_ch_out', 'var_WhiteNoise_ch', 'var_RewardZoneCue_ch', 'var_UDP_IP_bpod', 'var_UDP_PORT_bpod', 'var_Bias_ip', 'var_Bias_port_base', 'var_Bias_port_stride', 'var_Bias_expected_camera_num', 'var_Bias_config_dir', 'var_Bias_movie_dir', 'var_Bias_camera_names', 'var_BCI_zaber_subjects_dir', 'zaber_acceleration', 'zaber_direction', 'zaber_limit_close', 'zaber_limit_far', 'zaber_reward_zone', 'zaber_speed', 'zaber_trigger_step_size', 'zaber_max_speed', 'zaber_microstep_size', 'zaber_trigger_step_time', 'bpod_file_names', 'subject_name', 'setup_name', 'experimenter_name', 'scanimage_roi_outputChannelsEnabled', 'scanimage_roi_outputChannelsNames', 'scanimage_roi_outputChannelsRoiNames', 'scanimage_roi_outputChannelsFunctions', 'scanimage_file_names', 'scanimage_bpod_time_offset', 'scanimage_first_frame_offset', 'scanimage_tiff_headers', 'residual_tiff_files'])"
      ]
     },
     "execution_count": 5,
     "metadata": {},
     "output_type": "execute_result"
    }
   ],
   "source": [
    "behavior_data.keys()"
   ]
  },
  {
   "cell_type": "code",
   "execution_count": 16,
   "id": "db613aa8-0300-4224-8ab3-48b4d85ccf43",
   "metadata": {},
   "outputs": [
    {
     "data": {
      "text/plain": [
       "1"
      ]
     },
     "execution_count": 16,
     "metadata": {},
     "output_type": "execute_result"
    }
   ],
   "source": []
  }
 ],
 "metadata": {
  "environment": {
   "kernel": "migrate_to_co",
   "name": "common-cpu.m92",
   "type": "gcloud",
   "uri": "gcr.io/deeplearning-platform-release/base-cpu:m92"
  },
  "kernelspec": {
   "display_name": "migrate_to_co",
   "language": "python",
   "name": "migrate_to_co"
  },
  "language_info": {
   "codemirror_mode": {
    "name": "ipython",
    "version": 3
   },
   "file_extension": ".py",
   "mimetype": "text/x-python",
   "name": "python",
   "nbconvert_exporter": "python",
   "pygments_lexer": "ipython3",
   "version": "3.10.13"
  }
 },
 "nbformat": 4,
 "nbformat_minor": 5
}
